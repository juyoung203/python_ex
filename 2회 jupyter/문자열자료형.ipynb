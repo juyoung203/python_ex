{
 "cells": [
  {
   "cell_type": "markdown",
   "metadata": {},
   "source": [
    "### 문자열"
   ]
  },
  {
   "cell_type": "code",
   "execution_count": null,
   "metadata": {
    "collapsed": true
   },
   "outputs": [],
   "source": [
    "print(\"안녕하세요.'호호호'.\")"
   ]
  },
  {
   "cell_type": "code",
   "execution_count": null,
   "metadata": {
    "collapsed": true
   },
   "outputs": [],
   "source": [
    "print('''dear Alice\n",
    "dfdsf\n",
    "dfd\n",
    "             fdf''')"
   ]
  },
  {
   "cell_type": "code",
   "execution_count": null,
   "metadata": {
    "collapsed": true
   },
   "outputs": [],
   "source": [
    "lang= 'python programming'"
   ]
  },
  {
   "cell_type": "code",
   "execution_count": null,
   "metadata": {
    "collapsed": true
   },
   "outputs": [],
   "source": [
    "lang[0]"
   ]
  },
  {
   "cell_type": "code",
   "execution_count": null,
   "metadata": {
    "collapsed": true
   },
   "outputs": [],
   "source": [
    "lang[1:3]"
   ]
  },
  {
   "cell_type": "code",
   "execution_count": null,
   "metadata": {
    "collapsed": true
   },
   "outputs": [],
   "source": [
    "lang[::]"
   ]
  },
  {
   "cell_type": "code",
   "execution_count": null,
   "metadata": {
    "collapsed": true
   },
   "outputs": [],
   "source": [
    "a='hello'\n",
    "b='world'"
   ]
  },
  {
   "cell_type": "code",
   "execution_count": null,
   "metadata": {
    "collapsed": true
   },
   "outputs": [],
   "source": [
    "a+b"
   ]
  },
  {
   "cell_type": "code",
   "execution_count": null,
   "metadata": {
    "collapsed": true
   },
   "outputs": [],
   "source": [
    "a*3"
   ]
  },
  {
   "cell_type": "markdown",
   "metadata": {},
   "source": [
    "###len()함수 : 괄호 안에 있는 문자열 개수를 알려줌 "
   ]
  },
  {
   "cell_type": "code",
   "execution_count": null,
   "metadata": {
    "collapsed": true
   },
   "outputs": [],
   "source": [
    "a = 'dajkflhsdjlkhfuiahdkn'"
   ]
  },
  {
   "cell_type": "code",
   "execution_count": null,
   "metadata": {
    "collapsed": true
   },
   "outputs": [],
   "source": [
    "len(a)"
   ]
  },
  {
   "cell_type": "markdown",
   "metadata": {},
   "source": [
    "### in()함수 "
   ]
  },
  {
   "cell_type": "code",
   "execution_count": null,
   "metadata": {
    "collapsed": true
   },
   "outputs": [],
   "source": [
    "subject = 'subject'"
   ]
  },
  {
   "cell_type": "code",
   "execution_count": null,
   "metadata": {
    "collapsed": true
   },
   "outputs": [],
   "source": [
    "'r' in subject"
   ]
  },
  {
   "cell_type": "code",
   "execution_count": null,
   "metadata": {
    "collapsed": true
   },
   "outputs": [],
   "source": [
    "name = 'Lee Ju young'"
   ]
  },
  {
   "cell_type": "code",
   "execution_count": null,
   "metadata": {
    "collapsed": true
   },
   "outputs": [],
   "source": [
    "name.upper()"
   ]
  },
  {
   "cell_type": "code",
   "execution_count": null,
   "metadata": {
    "collapsed": true
   },
   "outputs": [],
   "source": [
    "name.lower()"
   ]
  },
  {
   "cell_type": "code",
   "execution_count": null,
   "metadata": {
    "collapsed": true
   },
   "outputs": [],
   "source": [
    "a.islower()"
   ]
  },
  {
   "cell_type": "code",
   "execution_count": null,
   "metadata": {
    "collapsed": true
   },
   "outputs": [],
   "source": [
    "name.capitalize()"
   ]
  },
  {
   "cell_type": "code",
   "execution_count": null,
   "metadata": {
    "collapsed": true
   },
   "outputs": [],
   "source": [
    "name.title()"
   ]
  },
  {
   "cell_type": "code",
   "execution_count": null,
   "metadata": {
    "collapsed": true
   },
   "outputs": [],
   "source": [
    "name.istitle()"
   ]
  },
  {
   "cell_type": "code",
   "execution_count": null,
   "metadata": {
    "collapsed": true
   },
   "outputs": [],
   "source": [
    "name.count('o')"
   ]
  },
  {
   "cell_type": "markdown",
   "metadata": {},
   "source": [
    "### 입출력문"
   ]
  },
  {
   "cell_type": "code",
   "execution_count": 5,
   "metadata": {
    "collapsed": true
   },
   "outputs": [],
   "source": [
    "math_score = 50\n",
    "science_score = 30\n",
    "english_score = 70"
   ]
  },
  {
   "cell_type": "code",
   "execution_count": 8,
   "metadata": {},
   "outputs": [
    {
     "name": "stdout",
     "output_type": "stream",
     "text": [
      "50 30 70\n"
     ]
    }
   ],
   "source": [
    "print(math_score, science_score, english_score)"
   ]
  },
  {
   "cell_type": "code",
   "execution_count": 7,
   "metadata": {},
   "outputs": [
    {
     "name": "stdout",
     "output_type": "stream",
     "text": [
      "내 수학점수는 : 50\n"
     ]
    }
   ],
   "source": [
    "print(\"내 수학점수는 :\", math_score)"
   ]
  },
  {
   "cell_type": "code",
   "execution_count": 9,
   "metadata": {},
   "outputs": [
    {
     "ename": "SyntaxError",
     "evalue": "invalid syntax (<ipython-input-9-810225c1a3b2>, line 1)",
     "output_type": "error",
     "traceback": [
      "\u001b[1;36m  File \u001b[1;32m\"<ipython-input-9-810225c1a3b2>\"\u001b[1;36m, line \u001b[1;32m1\u001b[0m\n\u001b[1;33m    print(\"내 수학점수는 :\", scienceprint(\"내 수학점수는 :\", math_score)_score)\u001b[0m\n\u001b[1;37m                                                                 ^\u001b[0m\n\u001b[1;31mSyntaxError\u001b[0m\u001b[1;31m:\u001b[0m invalid syntax\n"
     ]
    }
   ],
   "source": [
    "print(\"내 수학점수는 :\", scienceprint(\"내 수학점수는 :\", math_score)_score)"
   ]
  },
  {
   "cell_type": "code",
   "execution_count": null,
   "metadata": {
    "collapsed": true
   },
   "outputs": [],
   "source": [
    "print(\"내 수학점수는 :\", english_score)"
   ]
  },
  {
   "cell_type": "code",
   "execution_count": null,
   "metadata": {
    "collapsed": true
   },
   "outputs": [],
   "source": [
    "print(\"내 수학점수는 :\", math_score, \"내 과학점수는\", science_score, \"내 영어점수는\", english_score)c"
   ]
  },
  {
   "cell_type": "code",
   "execution_count": 11,
   "metadata": {},
   "outputs": [
    {
     "name": "stdout",
     "output_type": "stream",
     "text": [
      "수학점수는 : 50\n",
      "과학점수는 : 30\n",
      "영어점수는 : 70\n"
     ]
    }
   ],
   "source": [
    "print(\"수학점수는 : {}\\n과학점수는 : {}\\n영어점수는 : {}\"\n",
    "      .format(math_score, science_score, english_score))"
   ]
  },
  {
   "cell_type": "code",
   "execution_count": null,
   "metadata": {
    "collapsed": true
   },
   "outputs": [],
   "source": [
    "print?"
   ]
  },
  {
   "cell_type": "code",
   "execution_count": 13,
   "metadata": {},
   "outputs": [
    {
     "name": "stdout",
     "output_type": "stream",
     "text": [
      "a\n",
      "\n",
      "\n",
      "\n",
      "\n",
      "n\n"
     ]
    }
   ],
   "source": [
    "print('a', end='\\n\\n\\n\\n\\n')\n",
    "print('n')"
   ]
  },
  {
   "cell_type": "code",
   "execution_count": null,
   "metadata": {
    "collapsed": true
   },
   "outputs": [],
   "source": [
    "name = input(\"이름을 입력하세요 : \")\n",
    "phone = input(\"전화번호를 입력하세요 : \")\n",
    "add = input(\"주소를 입력하세요 : \")"
   ]
  },
  {
   "cell_type": "code",
   "execution_count": 14,
   "metadata": {},
   "outputs": [
    {
     "name": "stdout",
     "output_type": "stream",
     "text": [
      "이름을 입력하세요 : 이주영\n",
      "전화번호를 입력하세요 : 01099969395\n",
      "주소를 입력하세요 : 서울시\n",
      "이름 : 이주영\n",
      "전화번호 : 01099969395\n",
      "주소 : 서울시\n"
     ]
    }
   ],
   "source": [
    "name = input(\"이름을 입력하세요 : \")\n",
    "phone = input(\"전화번호를 입력하세요 : \")\n",
    "add = input(\"주소를 입력하세요 : \")\n",
    "\n",
    "print(\"이름 : {0}\\n전화번호 : {1}\\n주소 : {2}\"\n",
    "     .format(name,phone,add))"
   ]
  },
  {
   "cell_type": "code",
   "execution_count": 16,
   "metadata": {},
   "outputs": [
    {
     "name": "stdout",
     "output_type": "stream",
     "text": [
      "성적을 입력하세요 : 34\n",
      "무슨 등급을 원하시나요? 2\n",
      "재수강 하세요.\n"
     ]
    }
   ],
   "source": [
    "성적 = int(input(\"성적을 입력하세요 : \"))\n",
    "등급 = int(input('무슨 등급을 원하시나요? '))\n",
    "if 성적>= 90 : \n",
    "    print(\"1등급입니다.\")\n",
    "else :\n",
    "    print(\"재수강 하세요.\")\n",
    "    "
   ]
  },
  {
   "cell_type": "markdown",
   "metadata": {},
   "source": [
    "### 문제"
   ]
  },
  {
   "cell_type": "markdown",
   "metadata": {},
   "source": [
    "세과목(국어, 수학, 영어) 성적을input()함수로입력받아세과목의총점과평균을구하는프로그램을작성하시오. 평균은소수점둘째자리까지출력되도록한다."
   ]
  },
  {
   "cell_type": "code",
   "execution_count": 18,
   "metadata": {},
   "outputs": [
    {
     "name": "stdout",
     "output_type": "stream",
     "text": [
      "국어성적을 입력하세요78\n",
      "수학성적을 입력하세요90\n",
      "영어성적을 입력하세요86\n",
      "\n",
      "입력받은 성적\n",
      "--------------\n",
      "국어 성적 : 78\n",
      "수학 성적 : 90\n",
      "영어 성적 : 86\n",
      "\n",
      "--------------\n",
      "\n",
      "총점 254\n",
      "평균 : {0:.2f} 84.66666666666667\n",
      "평균 :      84.67\n"
     ]
    }
   ],
   "source": [
    "#점수를 입력하는 방법\n",
    "\"\"\"input으로 입력을  받으면 문자열로 된다.\n",
    "따라서 int()함수로 데이터 타입을 변형한 뒤 각 변수에 할당한다.\n",
    "\"\"\"\n",
    "korean_score = int(input(\"국어성적을 입력하세요\"))\n",
    "math_score = int(input(\"수학성적을 입력하세요\"))\n",
    "english_score = int(input(\"영어성적을 입력하세요\"))  \n",
    "\n",
    "print()\n",
    "print(\"입력받은 성적\")\n",
    "print(\"--------------\")\n",
    "\n",
    "print(\"국어 성적 : {}\\n수학 성적 : {}\\n영어 성적 : {}\"\n",
    "      .format(korean_score,math_score,english_score))\n",
    "\n",
    "print()\n",
    "print(\"--------------\")\n",
    "\n",
    "total= korean_score+math_score+english_score\n",
    "mean= (korean_score+math_score+english_score)/3\n",
    "\n",
    "print()\n",
    "\n",
    "print(\"총점\", total)\n",
    "print(\"평균 : {0:.2f}\", mean)\n",
    "print(\"평균 : {0:10.2f}\".format(mean))"
   ]
  },
  {
   "cell_type": "markdown",
   "metadata": {},
   "source": [
    "문제2"
   ]
  },
  {
   "cell_type": "markdown",
   "metadata": {},
   "source": [
    "input() 함수를이용하여원의반지름을입력받는다. 입력받은반지름으로원의넓이와원의둘레를구하여소수셋째자리까지출력하는프로그램을작성하시오. 원주율을3.141592로한다."
   ]
  },
  {
   "cell_type": "code",
   "execution_count": 29,
   "metadata": {},
   "outputs": [
    {
     "name": "stdout",
     "output_type": "stream",
     "text": [
      "반지름을 입력하시오.5\n",
      "반지름 :  5\n",
      "원의 넓이 78.5398\n",
      "원의 둘레 31.41592\n"
     ]
    }
   ],
   "source": [
    "r = int(input(\"반지름을 입력하시오.\"))\n",
    "print(\"반지름 : \",r)\n",
    "\n",
    "원의_넓이 =r**2*3.141592\n",
    "\n",
    "print(\"원의 넓이\",원의_넓이)\n",
    "\n",
    "둘레=2*r*3.141592\n",
    "print(\"원의 둘레\",둘레)"
   ]
  },
  {
   "cell_type": "markdown",
   "metadata": {},
   "source": [
    "##### 문제3 "
   ]
  },
  {
   "cell_type": "markdown",
   "metadata": {},
   "source": [
    "다섯자리양의정수를입력받아서다음과같이각자리수를떼어서출력하는프로그램을작성하시오. 항상올바르게 다섯자리숫자를입력하고1~9의수만입력한다고가정한다."
   ]
  },
  {
   "cell_type": "code",
   "execution_count": 23,
   "metadata": {},
   "outputs": [
    {
     "name": "stdout",
     "output_type": "stream",
     "text": [
      "다섯 자리 숫자를 입력하시오 : 58924\n"
     ]
    },
    {
     "ename": "TypeError",
     "evalue": "'tuple' object is not callable",
     "output_type": "error",
     "traceback": [
      "\u001b[1;31m---------------------------------------------------------------------------\u001b[0m",
      "\u001b[1;31mTypeError\u001b[0m                                 Traceback (most recent call last)",
      "\u001b[1;32m<ipython-input-23-295d56ef1d6a>\u001b[0m in \u001b[0;36m<module>\u001b[1;34m()\u001b[0m\n\u001b[0;32m      8\u001b[0m \u001b[0mn1\u001b[0m\u001b[1;33m=\u001b[0m\u001b[0mnum\u001b[0m\u001b[1;33m%\u001b[0m\u001b[1;36m10\u001b[0m\u001b[1;33m\u001b[0m\u001b[0m\n\u001b[0;32m      9\u001b[0m \u001b[1;33m\u001b[0m\u001b[0m\n\u001b[1;32m---> 10\u001b[1;33m \u001b[0mprint\u001b[0m\u001b[1;33m(\u001b[0m\u001b[0mn10000\u001b[0m\u001b[1;33m,\u001b[0m\u001b[1;34m''\u001b[0m\u001b[1;33m,\u001b[0m \u001b[0mn1000\u001b[0m\u001b[1;33m,\u001b[0m\u001b[1;34m''\u001b[0m\u001b[1;33m,\u001b[0m \u001b[0mn100\u001b[0m\u001b[1;33m,\u001b[0m\u001b[1;34m''\u001b[0m\u001b[1;33m,\u001b[0m \u001b[0mn10\u001b[0m\u001b[1;33m,\u001b[0m\u001b[1;34m''\u001b[0m\u001b[1;33m,\u001b[0m \u001b[0mn1\u001b[0m\u001b[1;33m,\u001b[0m\u001b[1;34m''\u001b[0m\u001b[1;33m)\u001b[0m\u001b[1;33m\u001b[0m\u001b[0m\n\u001b[0m\u001b[0;32m     11\u001b[0m \u001b[0mprint\u001b[0m\u001b[1;33m(\u001b[0m\u001b[1;33m)\u001b[0m\u001b[1;33m\u001b[0m\u001b[0m\n\u001b[0;32m     12\u001b[0m \u001b[1;33m\u001b[0m\u001b[0m\n",
      "\u001b[1;31mTypeError\u001b[0m: 'tuple' object is not callable"
     ]
    }
   ],
   "source": [
    "num=int(input(\"다섯 자리 숫자를 입력하시오 : \"))\n",
    "print=()\n",
    "\n",
    "n10000=num//10000\n",
    "n1000=num//1000\n",
    "n100=num//100\n",
    "n10=num//10\n",
    "n1=num\n",
    "\n",
    "print(n10000,'', n1000,'', n100,'', n10,'', n1,'')\n",
    "print()\n",
    "\n",
    "print('프로그램을 끝내려면 엔터를 누르세요.')"
   ]
  },
  {
   "cell_type": "code",
   "execution_count": null,
   "metadata": {
    "collapsed": true
   },
   "outputs": [],
   "source": []
  }
 ],
 "metadata": {
  "kernelspec": {
   "display_name": "Python 3",
   "language": "python",
   "name": "python3"
  },
  "language_info": {
   "codemirror_mode": {
    "name": "ipython",
    "version": 3
   },
   "file_extension": ".py",
   "mimetype": "text/x-python",
   "name": "python",
   "nbconvert_exporter": "python",
   "pygments_lexer": "ipython3",
   "version": "3.6.3"
  }
 },
 "nbformat": 4,
 "nbformat_minor": 2
}
