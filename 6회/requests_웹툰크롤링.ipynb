{
 "cells": [
  {
   "cell_type": "markdown",
   "metadata": {},
   "source": [
    "# 간단한 요청"
   ]
  },
  {
   "cell_type": "code",
   "execution_count": null,
   "metadata": {
    "collapsed": true
   },
   "outputs": [],
   "source": [
    "import requests"
   ]
  },
  {
   "cell_type": "code",
   "execution_count": null,
   "metadata": {
    "collapsed": true
   },
   "outputs": [],
   "source": [
    "response = requests.get(\"http://news.mt.co.kr/mtview.php?no=2018010809580825604\")"
   ]
  },
  {
   "cell_type": "code",
   "execution_count": null,
   "metadata": {
    "collapsed": true
   },
   "outputs": [],
   "source": [
    "html = response.text"
   ]
  },
  {
   "cell_type": "code",
   "execution_count": null,
   "metadata": {},
   "outputs": [],
   "source": [
    "print(html)"
   ]
  },
  {
   "cell_type": "code",
   "execution_count": null,
   "metadata": {
    "collapsed": true
   },
   "outputs": [],
   "source": [
    "import requests # pip install requests\n",
    "\n",
    "# GET 요청\n",
    "response = requests.get('https://gurneykim.github.io/ex_ipython/')\n",
    "\"\"\"\n",
    "requests.get('https://gurneykim.github.io/ex_ipython/') \n",
    " -> 지정한 주소 서버에 get 요청을 했다.\n",
    " \n",
    "response = requests.get('https://gurneykim.github.io/ex_ipython/')\n",
    "-> 지정한 주소의 서버가 get 요청을 받은 후 응답했다.\n",
    "응답 패킷을 response 변수에 넣었다.\n",
    "\"\"\"\n",
    "\n",
    "# response 변수에 들어있는 응답 패킷 중 html 소스확인 .text\n",
    "html = response.text\n",
    "\n",
    "# https://gurneykim.github.io/ex_ipython/ - 페이지 소스보기 의 html 파일과 똑같다.\n",
    "# 개발자 도구의 html 파일은 변화하는 소스까지 있다."
   ]
  },
  {
   "cell_type": "code",
   "execution_count": null,
   "metadata": {
    "collapsed": true
   },
   "outputs": [],
   "source": [
    "print(html)"
   ]
  },
  {
   "cell_type": "markdown",
   "metadata": {},
   "source": [
    "요청 패킷 예  \n",
    "\n",
    "GET / ex_ipython/ HTTP/1.1  # urn \n",
    "Host: gurneykim.github.io/ #uri\n",
    "Connection: keep-alive   \n",
    "Accept: */*   \n",
    "User-Agent: python-requests/2.14.2   \n",
    "Accept-Encoding: gzip, deflate   \n",
    "(빈줄)  \n",
    "(Body 없음)  \n",
    "\n",
    "\n",
    "key : values 형식으로 자료를 준다."
   ]
  },
  {
   "cell_type": "code",
   "execution_count": 1,
   "metadata": {},
   "outputs": [
    {
     "name": "stdout",
     "output_type": "stream",
     "text": [
      "Once deleted, variables cannot be recovered. Proceed (y/[n])? ㅛ\n",
      "Once deleted, variables cannot be recovered. Proceed (y/[n])? y\n"
     ]
    }
   ],
   "source": [
    "%reset"
   ]
  },
  {
   "cell_type": "markdown",
   "metadata": {},
   "source": [
    "# 웹툰 크롤링"
   ]
  },
  {
   "cell_type": "code",
   "execution_count": 2,
   "metadata": {
    "collapsed": true
   },
   "outputs": [],
   "source": [
    "# requests 패키지 로드\n",
    "import requests\n",
    "import os"
   ]
  },
  {
   "cell_type": "code",
   "execution_count": 3,
   "metadata": {},
   "outputs": [
    {
     "name": "stdout",
     "output_type": "stream",
     "text": [
      "writing to 20171215163057_8312de77acfc36f33bac27215d7053fa_IMAG01_1.jpg (106246 bytes)\n",
      "writing to 20171215163057_8312de77acfc36f33bac27215d7053fa_IMAG01_2.jpg (109793 bytes)\n",
      "writing to 20171215163057_8312de77acfc36f33bac27215d7053fa_IMAG01_3.jpg (203184 bytes)\n",
      "writing to 20171215163057_8312de77acfc36f33bac27215d7053fa_IMAG01_4.jpg (123718 bytes)\n",
      "writing to 20171215163057_8312de77acfc36f33bac27215d7053fa_IMAG01_5.jpg (108052 bytes)\n",
      "writing to 20171215163057_8312de77acfc36f33bac27215d7053fa_IMAG01_6.jpg (201831 bytes)\n",
      "writing to 20171215163057_8312de77acfc36f33bac27215d7053fa_IMAG01_7.jpg (253420 bytes)\n",
      "writing to 20171215163057_8312de77acfc36f33bac27215d7053fa_IMAG01_8.jpg (83217 bytes)\n",
      "writing to 20171215163057_8312de77acfc36f33bac27215d7053fa_IMAG01_9.jpg (39174 bytes)\n",
      "writing to 20171215163057_8312de77acfc36f33bac27215d7053fa_IMAG01_10.jpg (157765 bytes)\n",
      "writing to 20171215163057_8312de77acfc36f33bac27215d7053fa_IMAG01_11.jpg (124766 bytes)\n",
      "writing to 20171215163057_8312de77acfc36f33bac27215d7053fa_IMAG01_12.jpg (79779 bytes)\n",
      "writing to 20171215163057_8312de77acfc36f33bac27215d7053fa_IMAG01_13.jpg (100099 bytes)\n",
      "writing to 20171215163057_8312de77acfc36f33bac27215d7053fa_IMAG01_14.jpg (134031 bytes)\n",
      "writing to 20171215163057_8312de77acfc36f33bac27215d7053fa_IMAG01_15.jpg (97130 bytes)\n",
      "writing to 20171215163057_8312de77acfc36f33bac27215d7053fa_IMAG01_16.jpg (158921 bytes)\n",
      "writing to 20171215163057_8312de77acfc36f33bac27215d7053fa_IMAG01_17.jpg (241130 bytes)\n",
      "writing to 20171215163057_8312de77acfc36f33bac27215d7053fa_IMAG01_18.jpg (266402 bytes)\n",
      "writing to 20171215163057_8312de77acfc36f33bac27215d7053fa_IMAG01_19.jpg (201944 bytes)\n",
      "writing to 20171215163057_8312de77acfc36f33bac27215d7053fa_IMAG01_20.jpg (189415 bytes)\n",
      "writing to 20171215163057_8312de77acfc36f33bac27215d7053fa_IMAG01_21.jpg (139429 bytes)\n",
      "writing to 20171215163057_8312de77acfc36f33bac27215d7053fa_IMAG01_22.jpg (136704 bytes)\n",
      "writing to 20171215163057_8312de77acfc36f33bac27215d7053fa_IMAG01_23.jpg (123081 bytes)\n",
      "writing to 20171215163057_8312de77acfc36f33bac27215d7053fa_IMAG01_24.jpg (165039 bytes)\n",
      "writing to 20171215163057_8312de77acfc36f33bac27215d7053fa_IMAG01_25.jpg (92007 bytes)\n",
      "writing to 20171215163057_8312de77acfc36f33bac27215d7053fa_IMAG01_26.jpg (195811 bytes)\n",
      "writing to 20171215163057_8312de77acfc36f33bac27215d7053fa_IMAG01_27.jpg (219930 bytes)\n",
      "writing to 20171215163057_8312de77acfc36f33bac27215d7053fa_IMAG01_28.jpg (198114 bytes)\n",
      "writing to 20171215163057_8312de77acfc36f33bac27215d7053fa_IMAG01_29.jpg (206114 bytes)\n",
      "writing to 20171215163057_8312de77acfc36f33bac27215d7053fa_IMAG01_30.jpg (160284 bytes)\n",
      "writing to 20171215163057_8312de77acfc36f33bac27215d7053fa_IMAG01_31.jpg (143789 bytes)\n",
      "writing to 20171215163057_8312de77acfc36f33bac27215d7053fa_IMAG01_32.jpg (97067 bytes)\n",
      "writing to 20171215163057_8312de77acfc36f33bac27215d7053fa_IMAG01_33.jpg (100064 bytes)\n",
      "writing to 20171215163057_8312de77acfc36f33bac27215d7053fa_IMAG01_34.jpg (121127 bytes)\n",
      "writing to 20171215163057_8312de77acfc36f33bac27215d7053fa_IMAG01_35.jpg (138510 bytes)\n",
      "writing to 20171215163057_8312de77acfc36f33bac27215d7053fa_IMAG01_36.jpg (157196 bytes)\n",
      "writing to 20171215163057_8312de77acfc36f33bac27215d7053fa_IMAG01_37.jpg (137367 bytes)\n",
      "writing to 20171215163057_8312de77acfc36f33bac27215d7053fa_IMAG01_38.jpg (193378 bytes)\n",
      "writing to 20171215163057_8312de77acfc36f33bac27215d7053fa_IMAG01_39.jpg (156068 bytes)\n",
      "writing to 20171215163057_8312de77acfc36f33bac27215d7053fa_IMAG01_40.jpg (174918 bytes)\n",
      "writing to 20171215163057_8312de77acfc36f33bac27215d7053fa_IMAG01_41.jpg (140068 bytes)\n",
      "writing to 20171215163057_8312de77acfc36f33bac27215d7053fa_IMAG01_42.jpg (178956 bytes)\n",
      "writing to 20171215163057_8312de77acfc36f33bac27215d7053fa_IMAG01_43.jpg (141268 bytes)\n",
      "writing to 20171215163057_8312de77acfc36f33bac27215d7053fa_IMAG01_44.jpg (161459 bytes)\n",
      "writing to 20171215163057_8312de77acfc36f33bac27215d7053fa_IMAG01_45.jpg (164722 bytes)\n",
      "writing to 20171215163057_8312de77acfc36f33bac27215d7053fa_IMAG01_46.jpg (149634 bytes)\n",
      "writing to 20171215163057_8312de77acfc36f33bac27215d7053fa_IMAG01_47.jpg (134143 bytes)\n",
      "writing to 20171215163057_8312de77acfc36f33bac27215d7053fa_IMAG01_48.jpg (106725 bytes)\n",
      "writing to 20171215163057_8312de77acfc36f33bac27215d7053fa_IMAG01_49.jpg (173628 bytes)\n",
      "writing to 20171215163057_8312de77acfc36f33bac27215d7053fa_IMAG01_50.jpg (165336 bytes)\n",
      "writing to 20171215163057_8312de77acfc36f33bac27215d7053fa_IMAG01_51.jpg (88502 bytes)\n",
      "writing to 20171215163057_8312de77acfc36f33bac27215d7053fa_IMAG01_52.jpg (116865 bytes)\n",
      "writing to 20171215163057_8312de77acfc36f33bac27215d7053fa_IMAG01_53.jpg (103413 bytes)\n",
      "writing to 20171215163057_8312de77acfc36f33bac27215d7053fa_IMAG01_54.jpg (165901 bytes)\n",
      "writing to 20171215163057_8312de77acfc36f33bac27215d7053fa_IMAG01_55.jpg (88266 bytes)\n",
      "writing to 20171215163057_8312de77acfc36f33bac27215d7053fa_IMAG01_56.jpg (154362 bytes)\n",
      "writing to 20171215163057_8312de77acfc36f33bac27215d7053fa_IMAG01_57.jpg (109499 bytes)\n",
      "writing to 20171215163057_8312de77acfc36f33bac27215d7053fa_IMAG01_58.jpg (162017 bytes)\n",
      "writing to 20171215163057_8312de77acfc36f33bac27215d7053fa_IMAG01_59.jpg (90136 bytes)\n",
      "writing to 20171215163057_8312de77acfc36f33bac27215d7053fa_IMAG01_60.jpg (178612 bytes)\n",
      "writing to 20171215163057_8312de77acfc36f33bac27215d7053fa_IMAG01_61.jpg (142214 bytes)\n",
      "writing to 20171215163057_8312de77acfc36f33bac27215d7053fa_IMAG01_62.jpg (193491 bytes)\n",
      "writing to 20171215163057_8312de77acfc36f33bac27215d7053fa_IMAG01_63.jpg (156189 bytes)\n",
      "writing to 20171215163057_8312de77acfc36f33bac27215d7053fa_IMAG01_64.jpg (94363 bytes)\n",
      "writing to 20171215163057_8312de77acfc36f33bac27215d7053fa_IMAG01_65.jpg (229636 bytes)\n",
      "writing to 20171215163057_8312de77acfc36f33bac27215d7053fa_IMAG01_66.jpg (210193 bytes)\n",
      "writing to 20171215163057_8312de77acfc36f33bac27215d7053fa_IMAG01_67.jpg (154167 bytes)\n",
      "writing to 20171215163057_8312de77acfc36f33bac27215d7053fa_IMAG01_68.jpg (228410 bytes)\n",
      "writing to 20171215163057_8312de77acfc36f33bac27215d7053fa_IMAG01_69.jpg (231602 bytes)\n",
      "writing to 20171215163057_8312de77acfc36f33bac27215d7053fa_IMAG01_70.jpg (295794 bytes)\n",
      "writing to 20171215163057_8312de77acfc36f33bac27215d7053fa_IMAG01_71.jpg (163288 bytes)\n",
      "writing to 20171215163057_8312de77acfc36f33bac27215d7053fa_IMAG01_72.jpg (152314 bytes)\n",
      "writing to 20171215163057_8312de77acfc36f33bac27215d7053fa_IMAG01_73.jpg (239772 bytes)\n",
      "writing to 20171215163057_8312de77acfc36f33bac27215d7053fa_IMAG01_74.jpg (423946 bytes)\n",
      "writing to 20171215163057_8312de77acfc36f33bac27215d7053fa_IMAG01_75.jpg (113104 bytes)\n",
      "writing to 20171215163057_8312de77acfc36f33bac27215d7053fa_IMAG01_76.jpg (157184 bytes)\n"
     ]
    }
   ],
   "source": [
    "image_urls =[]\n",
    "\n",
    "for i in range(1,77):\n",
    "    image_urls.append(\"http://imgcomic.naver.net/webtoon/183559/365/20171215163057_8312de77acfc36f33bac27215d7053fa_IMAG01_{}.jpg\"\n",
    "                      .format(i))\n",
    "    \n",
    "for image_url in image_urls:\n",
    "    headers = {\n",
    "        'Referer' : \"http://comic.naver.com/webtoon/weekday.nhn\"}\n",
    "#    response = requests.get(image_url)\n",
    "\n",
    "    response = requests.get(image_url,headers=headers)\n",
    "    \n",
    "    image_data = response.content \n",
    "    #.content Raw data, byte 타입 가져오기 / .text : Raw Data에 대해 서버 응답의 content-type 인코딩으로 디코딩을을 시도한 유니코드 문자열\n",
    "    filename = os.path.basename(image_url)\n",
    "    with open(filename, 'wb') as f:\n",
    "        print('writing to {} ({} bytes)'.format(filename, len(image_data)))\n",
    "        f.write(image_data)"
   ]
  },
  {
   "cell_type": "markdown",
   "metadata": {},
   "source": [
    "# 네이버 웹툰"
   ]
  },
  {
   "cell_type": "code",
   "execution_count": null,
   "metadata": {
    "collapsed": true
   },
   "outputs": [],
   "source": [
    "import os\n",
    "import requests\n",
    "# URL 소스 : http://comic.naver.com/webtoon/detail.nhn?titleId=119874&no=1015&weekday=tue\n",
    "# - 덴마. 3-12화 1. 다이크(12)\n",
    "\n",
    "image_urls = [\n",
    " 'http://imgcomic.naver.net/webtoon/119874/1015/20170528204207_6e9df8e618b97520233bbb35e7d4eaaf_IMAG01_1.jpg',\n",
    " 'http://imgcomic.naver.net/webtoon/119874/1015/20170528204207_6e9df8e618b97520233bbb35e7d4eaaf_IMAG01_2.jpg',\n",
    " 'http://imgcomic.naver.net/webtoon/119874/1015/2017052820ㅈ4207_6e9df8e618b97520233bbb35e7d4eaaf_IMAG01_3.jpg',\n",
    "]\n",
    "\n",
    "for image_url in image_urls:\n",
    "\"\"\"    headers = {\n",
    "        'Referer' : \"http://comic.naver.com/webtoon/detail.nhn?titleId=119874&no=1015&weekday=tue\"\n",
    "    }\n",
    "\"\"\"\n",
    "    response = requests.get(image_url)\n",
    "#    response = requests.get(image_url,headers=headers)\n",
    "    image_data = response.content \n",
    "    #.content Raw data, byte 타입 가져오기 / .text : Raw Data에 대해 서버 응답의 content-type 인코딩으로 디코딩을을 시도한 유니코드 문자열\n",
    "    filename = os.path.basename(image_url)\n",
    "    with open(filename, 'wb') as f:\n",
    "        print('writing to {} ({} bytes)'.format(filename, len(image_data)))\n",
    "        f.write(image_data)"
   ]
  }
 ],
 "metadata": {
  "kernelspec": {
   "display_name": "Python 3",
   "language": "python",
   "name": "python3"
  },
  "language_info": {
   "codemirror_mode": {
    "name": "ipython",
    "version": 3
   },
   "file_extension": ".py",
   "mimetype": "text/x-python",
   "name": "python",
   "nbconvert_exporter": "python",
   "pygments_lexer": "ipython3",
   "version": "3.6.3"
  }
 },
 "nbformat": 4,
 "nbformat_minor": 2
}
